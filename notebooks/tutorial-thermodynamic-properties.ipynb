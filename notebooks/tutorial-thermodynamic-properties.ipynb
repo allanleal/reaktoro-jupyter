{
 "cells": [
  {
   "cell_type": "markdown",
   "metadata": {},
   "source": [
    "# Evaluating standard thermodynamic properties of substances and reactions\n",
    "\n",
    "This tutorial demonstrates how to use Reaktoro to evaluate standard thermodynamic properties of substances and reactions.\n",
    "\n",
    "> *If your main interest is on computing thermodynamic properties, rather than chemical equilibrium and kinetics modeling, \n",
    "> you may want to check [ThermoFun](https://thermohub.org/thermofun/thermofun/), which is an excellent project dedicated for this task.*"
   ]
  },
  {
   "cell_type": "markdown",
   "source": [
    "First, we import everything from the `reaktoro` package by"
   ],
   "metadata": {
    "collapsed": false,
    "pycharm": {
     "name": "#%% md\n"
    }
   }
  },
  {
   "cell_type": "code",
   "execution_count": 7,
   "metadata": {
    "pycharm": {
     "is_executing": false
    }
   },
   "outputs": [],
   "source": [
    "from reaktoro import *  "
   ]
  },
  {
   "cell_type": "markdown",
   "source": [
    "We need a thermodynamic database that enables us to compute thermodynamic properties of species and reactions. The \n",
    "object `bd` is an instance of the class `Database`:"
   ],
   "metadata": {
    "collapsed": false,
    "pycharm": {
     "name": "#%% md\n"
    }
   }
  },
  {
   "cell_type": "code",
   "execution_count": 8,
   "metadata": {
    "pycharm": {
     "is_executing": false
    }
   },
   "outputs": [],
   "source": [
    "db = Database('supcrt98.xml')  "
   ]
  },
  {
   "cell_type": "markdown",
   "source": [
    "To access the thermodynamic property evaluations, we create a `Thermo` object:"
   ],
   "metadata": {
    "collapsed": false
   }
  },
  {
   "cell_type": "code",
   "execution_count": 9,
   "metadata": {
    "pycharm": {
     "is_executing": false
    }
   },
   "outputs": [],
   "source": [
    "thermo = Thermo(db)"
   ]
  },
  {
   "cell_type": "markdown",
   "source": [
    "For computing the standard Gibbs energy of $\\mathrm{Na+}$ at given temperature and pressure, we use function \n",
    "`standardPartialMolarGibbsEnergy()` "
   ],
   "metadata": {
    "collapsed": false,
    "pycharm": {
     "name": "#%% md\n"
    }
   }
  },
  {
   "cell_type": "code",
   "execution_count": 10,
   "outputs": [],
   "source": [
    "T = 300.0  # temperature in K\n",
    "P = 10.0e5  # pressure in Pa (equivalent to 10 bar)\n",
    "\n",
    "G0 = thermo.standardPartialMolarGibbsEnergy(T, P, 'Na+')  "
   ],
   "metadata": {
    "collapsed": false,
    "pycharm": {
     "name": "#%%\n",
     "is_executing": false
    }
   }
  },
  {
   "cell_type": "markdown",
   "source": [
    "Similarly, we can compute the $\\log(K)$ of given reaction at given $(T, P)$ by using function `logEquilibriumConstant()`: "
   ],
   "metadata": {
    "collapsed": false
   }
  },
  {
   "cell_type": "code",
   "execution_count": 11,
   "outputs": [],
   "source": [
    "logK = thermo.logEquilibriumConstant(T, P, 'H2O(l) = H+ + OH-')  "
   ],
   "metadata": {
    "collapsed": false,
    "pycharm": {
     "name": "#%%\n",
     "is_executing": false
    }
   }
  },
  {
   "cell_type": "markdown",
   "source": [
    "To print computed values, `.val` must be used:"
   ],
   "metadata": {
    "collapsed": false
   }
  },
  {
   "cell_type": "code",
   "execution_count": 12,
   "outputs": [
    {
     "name": "stdout",
     "text": [
      "G0(Na+) = -261989.99788831297 J/mol\n",
      "logK(H2O(l) = H+ + OH-) = -13.931442834240187\n"
     ],
     "output_type": "stream"
    }
   ],
   "source": [
    "print(f'G0(Na+) = {G0.val} J/mol')  # use G0.ddT or G0.ddP to get temperature and pressure derivatives\n",
    "print(f'logK(H2O(l) = H+ + OH-) = {logK.val}')  # use logK.ddT or logK.ddP to get temperature and pressure derivatives"
   ],
   "metadata": {
    "collapsed": false,
    "pycharm": {
     "name": "#%%\n",
     "is_executing": false
    }
   }
  },
  {
   "cell_type": "markdown",
   "source": [
    "**Note!** To access partial derivatives of `G0` with respect to temperature or pressure, use `G0.ddT` or `G0.ddP`."
   ],
   "metadata": {
    "collapsed": false
   }
  }
 ],
 "metadata": {
  "jupytext": {
   "formats": "notebooks//ipynb,scripts//py:percent"
  },
  "kernelspec": {
   "display_name": "Python 3",
   "language": "python",
   "name": "python3"
  },
  "language_info": {
   "codemirror_mode": {
    "name": "ipython",
    "version": 3
   },
   "file_extension": ".py",
   "mimetype": "text/x-python",
   "name": "python",
   "nbconvert_exporter": "python",
   "pygments_lexer": "ipython3",
   "version": "3.8.0"
  },
  "pycharm": {
   "stem_cell": {
    "cell_type": "raw",
    "source": [],
    "metadata": {
     "collapsed": false
    }
   }
  }
 },
 "nbformat": 4,
 "nbformat_minor": 2
}