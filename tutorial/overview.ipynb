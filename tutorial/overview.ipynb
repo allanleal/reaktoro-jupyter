{
 "cells": [
  {
   "cell_type": "markdown",
   "metadata": {},
   "source": [
    "<div>\n",
    "<a href=\"https://reaktoro.org\"><img src=\"https://reaktoro.org/_images/reaktoro-header.svg\"></a>\n",
    "</div>"
   ]
  },
  {
   "cell_type": "markdown",
   "metadata": {},
   "source": [
    "## Tutorial Overview\n",
    "\n",
    "The tutorial is broken into several sections, which are each presented in their own notebook.\n",
    "Tutorials, explaining the functionality of the most important classes in Reaktoro:\n",
    "\n",
    "1.  [Database class](cl.database.ipynb)\n",
    "2.  [ChemicalEditor class](cl.chemical-editor.ipynb)\n",
    "3.  [ChemicalSystem class](cl.chemical-system.ipynb)\n",
    "4.  [EquilibriumSolver class](cl.equilibrium-solver.ipynb)\n",
    "5.  [Thermo class](cl.thermo.ipynb)\n",
    "\n",
    "Tutorials on functionality related to modeling equilibrium problems:\n",
    "\n",
    "1.  [Basics of equilibrium calculation](eq.equilibrium-basics.ipynb)\n",
    "2.  [Equilibrium calculation of carbonate species](eq.equilibrium-carbonates.ipynb)\n",
    "3.  [Equilibrium calculation till full evaporation of the water](eq.co2-brine-full-water-evaporation.ipynb)\n",
    "4.  [Equilibrium calculations using equilibrium solver](eq.co2-brine-using-equilibrium-solver.ipynb)\n",
    "5.  [Custom activity model for equilibrium calculations](eq.custom-activity-models.ipynb)\n",
    "6.  [Inverse chemical equilibrium calculation](eq.inverse-chemical-equilibrium-calculations.ipynb)\n",
    "7.  [Equilibrium path calculation](eq.equilibriumpath.ipynb)\n",
    "\n",
    "Tutorials on modelling chemical paths of kinetically controlled reactions:\n",
    "\n",
    "1.  [Dissolution of calcite in an acidic HCl-solution](kin.calcite-hcl.ipynb)\n",
    "2.  [Dissolution of carbonate minerals in a carbon dioxide saturated brine](kin.carbonates-co2.ipynb)\n",
    "\n",
    "Finally, the last group is tutorials on using Reaktoro in reactive-transport simulations:\n",
    "\n",
    "1. [Reactive transport of CO<sub>2</sub>-saturated brine along a porous rock column](rt.1.calcite-brine.ipynb)\n",
    "2. [Reactive transport modeling along a rock core after injection of the fluid-rock composition](rt.2.calcite-dolomite.ipynb)\n",
    "3. [Coupling Reaktoro into other reactive transport codes](rt.coupling-reaktoro-to-transport.ipynb)"
   ]
  }
 ],
 "metadata": {
  "kernelspec": {
   "display_name": "Python 3",
   "language": "python",
   "name": "python3"
  }
 },
 "nbformat": 4,
 "nbformat_minor": 4
}
