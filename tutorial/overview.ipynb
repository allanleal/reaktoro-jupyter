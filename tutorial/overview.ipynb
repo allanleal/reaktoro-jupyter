{
 "cells": [
  {
   "cell_type": "markdown",
   "metadata": {},
   "source": [
    "<div>\n",
    "<a href=\"https://reaktoro.org\"><img src=\"https://reaktoro.org/_images/reaktoro-header.svg\"></a>\n",
    "</div>"
   ]
  },
  {
   "cell_type": "markdown",
   "metadata": {},
   "source": [
    "# Tutorial\n",
    "\n",
    "Find below a list of tutorials explaining how to use Reaktoro for solving\n",
    "chemical equilibrium, chemical kinetics, and reactive transport problems.\n",
    "\n",
    "> If you need assistance, please don't hesitate to chat with us on\n",
    "[Gitter](https://gitter.im/reaktoro/community)!\n",
    "\n",
    "### Tutorials on performing chemical equilibrium calculations:\n",
    "\n",
<<<<<<< HEAD
    "1.  [Basics of equilibrium calculation](eq.equilibrium-basics.ipynb)\n",
    "2.  [Equilibrium calculation of carbonate species](eq.equilibrium-carbonates.ipynb)\n",
    "3.  [Equilibrium calculation till full evaporation of the water](eq.co2-brine-full-water-evaporation.ipynb)\n",
    "4.  [Equilibrium calculations using equilibrium solver](eq.co2-brine-using-equilibrium-solver.ipynb)\n",
    "5.  [Custom activity model for equilibrium calculations](eq.custom-activity-models.ipynb)\n",
    "6.  [Inverse chemical equilibrium calculation](eq.inverse-chemical-equilibrium-calculations.ipynb)\n",
    "7.  [Equilibrium path calculation](eq.equilibriumpath.ipynb)\n",
=======
    "* [Basics of equilibrium calculation](eq.1.equilibrium-basics.ipynb)\n",
    "* [Equilibrium calculation of carbonate species](eq.2.equilibrium-carbonates.ipynb)\n",
    "* [Equilibrium calculation till full evaporation of the water](eq.3.co2-brine-full-water-evaporation.ipynb)\n",
    "* [Equilibrium calculations using equilibrium solver](eq.4.co2-brine-using-equilibrium-solver.ipynb)\n",
    "* [Custom activity model for equilibrium calculations](eq.5.custom-activity-models.ipynb)\n",
    "* [Inverse chemical equilibrium calculation](eq.6.inverse-chemical-equilibrium-calculations.ipynb)\n",
    "* [Equilibrium path calculation](eq.7.equilibriumpath.ipynb)\n",
>>>>>>> tutorials
    "\n",
    "### Tutorials on performing chemical kinetics calculations:\n",
    "\n",
<<<<<<< HEAD
    "1.  [Dissolution of calcite in an acidic HCl-solution](kin.calcite-hcl.ipynb)\n",
    "2.  [Dissolution of carbonate minerals in a carbon dioxide saturated brine](kin.carbonates-co2.ipynb)\n",
=======
    "* [Dissolution of calcite in an acidic HCl-solution](kin.1.calcite-hcl.ipynb)\n",
    "* [Dissolution of carbonate minerals in a carbon dioxide saturated brine](kin.2.carbonates-co2.ipynb)\n",
>>>>>>> tutorials
    "\n",
    "### Tutorials on performing reactive transport calculations:"
   ]
  },
  {
   "cell_type": "markdown",
   "metadata": {},
   "source": [
    "* [Reactive transport of CO<sub>2</sub>-saturated brine along a porous rock column](rt.1.calcite-brine.ipynb)\n",
    "* [Reactive transport modeling along a rock core after injection of the fluid-rock composition](rt.2.calcite-dolomite.ipynb)\n",
    "* [Coupling Reaktoro into other reactive transport codes](rt.3.coupling-reaktoro-to-transport.ipynb)\n",
    "\n",
<<<<<<< HEAD
    "1. [Reactive transport of CO<sub>2</sub>-saturated brine along a porous rock column](rt.1.calcite-brine.ipynb)\n",
    "2. [Reactive transport modeling along a rock core after injection of the fluid-rock composition](rt.2.calcite-dolomite.ipynb)\n",
    "3. [Coupling Reaktoro into other reactive transport codes](rt.coupling-reaktoro-to-transport.ipynb)"
=======
    "### Tutorials on explaining the most important classes in Reaktoro:\n",
    "\n",
    "* [**Database**](cl.database.ipynb)\n",
    "* [**ChemicalEditor**](cl.chemical-editor.ipynb)\n",
    "* [**ChemicalSystem**](cl.chemical-system.ipynb)\n",
    "* [**EquilibriumSolver**](cl.equilibrium-solver.ipynb)\n",
    "* [**Thermo**](cl.thermo.ipynb)"
>>>>>>> tutorials
   ]
  }
 ],
 "metadata": {
  "kernelspec": {
   "display_name": "Python 3",
   "language": "python",
   "name": "python3"
  }
 },
 "nbformat": 4,
 "nbformat_minor": 4
}
