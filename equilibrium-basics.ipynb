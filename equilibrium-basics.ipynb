{
 "cells": [
  {
   "cell_type": "markdown",
   "metadata": {},
   "source": [
    "# Performing a chemical equilibrium calculation\n",
    "\n",
    "This tutorial demonstrates how to use Reaktoro to perform a chemical equilibrium calculation."
   ]
  },
  {
   "cell_type": "code",
   "execution_count": 130,
   "metadata": {},
   "outputs": [],
   "source": [
    "from reaktoro import *  # import everything from the reaktoro package"
   ]
  },
  {
   "cell_type": "code",
   "execution_count": 131,
   "metadata": {},
   "outputs": [],
   "source": [
    "db = Database('supcrt98.xml')  # We need a thermodynamic database that enable us to compute thermodynamic properties of species and reactions."
   ]
  },
  {
   "cell_type": "code",
   "execution_count": 132,
   "metadata": {},
   "outputs": [],
   "source": [
    "editor = ChemicalEditor(db)  # Let's use ChemicalEditor to indicate the phases, and their species, that may potentially exist at equilibrium"
   ]
  },
  {
   "cell_type": "code",
   "execution_count": 133,
   "metadata": {},
   "outputs": [],
   "source": [
    "editor.addAqueousPhaseWithElements('H O Na Cl C Ca Mg Si');  # Let's consider an aqueous phase with species that can be formed with given chemical element symbols"
   ]
  },
  {
   "cell_type": "code",
   "execution_count": 134,
   "metadata": {},
   "outputs": [],
   "source": [
    "editor.addGaseousPhase('H2O(g) CO2(g)');  # Let's consider the possibility of a gaseous phase with the given species names"
   ]
  },
  {
   "cell_type": "code",
   "execution_count": 135,
   "metadata": {},
   "outputs": [],
   "source": [
    "# Below we consider all possible pure minerals that could exist in our equilibrium calculations\n",
    "editor.addMineralPhase('Halite');\n",
    "editor.addMineralPhase('Calcite');\n",
    "editor.addMineralPhase('Magnesite');\n",
    "editor.addMineralPhase('Dolomite');\n",
    "editor.addMineralPhase('Quartz');"
   ]
  },
  {
   "cell_type": "code",
   "execution_count": 136,
   "metadata": {},
   "outputs": [],
   "source": [
    "system = ChemicalSystem(editor)  # Important step where we create the chemical system with the information so far collected in the ChemicalEditor object `editor`."
   ]
  },
  {
   "cell_type": "code",
   "execution_count": 137,
   "metadata": {},
   "outputs": [],
   "source": [
    "problem = EquilibriumProblem(system)  # We use EquilibriumProblem to specify the conditions at which our system should be in equilibrium"
   ]
  },
  {
   "cell_type": "code",
   "execution_count": 138,
   "metadata": {},
   "outputs": [],
   "source": [
    "# Specify temperature and pressure conditions\n",
    "problem.setTemperature(70, 'celsius');\n",
    "problem.setPressure(100, 'bar');"
   ]
  },
  {
   "cell_type": "code",
   "execution_count": 139,
   "metadata": {},
   "outputs": [],
   "source": [
    "# Specify the initial condition for substance amounts\n",
    "problem.add('H2O', 1.0, 'kg');\n",
    "problem.add('CO2', 2.0, 'mol');\n",
    "problem.add('NaCl', 1.0, 'mol');\n",
    "problem.add('CaCO3', 10.0, 'g');\n",
    "problem.add('MgCO3', 5.0, 'g');\n",
    "problem.add('Quartz', 1.0, 'mol');"
   ]
  },
  {
   "cell_type": "code",
   "execution_count": 140,
   "metadata": {},
   "outputs": [],
   "source": [
    "state = equilibrate(problem)  # Perform a fast Gibbs energy minimization calculation to calculate the chemical equilibrium state"
   ]
  },
  {
   "cell_type": "code",
   "execution_count": 141,
   "metadata": {},
   "outputs": [
    {
     "data": {
      "text/plain": [
       "array([3.47123978e-22, 7.09041358e-01, 2.76400208e-06, 4.50376015e-03,\n",
       "       2.85240163e-09, 2.85810008e-02, 8.75324984e-06, 3.35861110e-03,\n",
       "       3.28732970e-04, 4.71317015e-09, 9.12301141e-01, 5.06141409e-21,\n",
       "       3.07298696e-22, 2.63196950e-22, 1.90499809e-22, 1.63623782e-05,\n",
       "       4.01736010e-22, 5.54588771e+01, 3.08641376e-21, 7.19042977e-02,\n",
       "       1.04497165e-06, 9.78124432e-20, 2.57623996e-22, 6.59775082e-22,\n",
       "       4.89137994e-08, 1.91516163e-04, 1.70161991e-10, 1.17976629e-03,\n",
       "       1.13625082e-07, 1.50720217e-04, 1.45532386e-09, 9.16468526e-01,\n",
       "       8.35310163e-02, 4.51871969e-07, 6.02482574e-09, 9.08508427e-16,\n",
       "       2.30942364e-08, 4.46600066e-04, 1.12491686e-02, 1.25265042e+00,\n",
       "       2.08357234e-21, 5.35222470e-03, 3.11553045e-21, 5.77800849e-02,\n",
       "       9.99552896e-01])"
      ]
     },
     "execution_count": 141,
     "metadata": {},
     "output_type": "execute_result"
    }
   ],
   "source": [
    "state.speciesAmounts()  # Access the amounts of species at equilibrium with this method"
   ]
  },
  {
   "cell_type": "code",
   "execution_count": 142,
   "metadata": {},
   "outputs": [
    {
     "name": "stdout",
     "output_type": "stream",
     "text": [
      "         CO(aq) = 3.4712397789883406e-22\n",
      "        CO2(aq) = 0.7090413580406868\n",
      "          CO3-- = 2.764002078730986e-06\n",
      "      Ca(HCO3)+ = 0.004503760152884106\n",
      "     Ca(HSiO3)+ = 2.852401632270354e-09\n",
      "           Ca++ = 0.028581000794659285\n",
      "      CaCO3(aq) = 8.753249841072126e-06\n",
      "          CaCl+ = 0.003358611101676718\n",
      "      CaCl2(aq) = 0.00032873296992645386\n",
      "          CaOH+ = 4.71317014865048e-09\n",
      "            Cl- = 0.9123011414436385\n",
      "           ClO- = 5.0614140939113705e-21\n",
      "          ClO2- = 3.072986964060557e-22\n",
      "          ClO3- = 2.631969503968108e-22\n",
      "          ClO4- = 1.9049980937378452e-22\n",
      "             H+ = 1.6362378166444628e-05\n",
      "         H2(aq) = 4.0173600965037235e-22\n",
      "         H2O(l) = 55.45887713293843\n",
      "       H2O2(aq) = 3.086413757652217e-21\n",
      "          HCO3- = 0.07190429769285117\n",
      "        HCl(aq) = 1.0449716497891676e-06\n",
      "       HClO(aq) = 9.781244321024934e-20\n",
      "      HClO2(aq) = 2.5762399645938917e-22\n",
      "           HO2- = 6.597750822554504e-22\n",
      "         HSiO3- = 4.891379940477807e-08\n",
      "      Mg(HCO3)+ = 0.00019151616292775037\n",
      "     Mg(HSiO3)+ = 1.7016199084771197e-10\n",
      "           Mg++ = 0.0011797662893472483\n",
      "      MgCO3(aq) = 1.1362508154497294e-07\n",
      "          MgCl+ = 0.00015072021696691304\n",
      "          MgOH+ = 1.4553238562445375e-09\n",
      "            Na+ = 0.9164685257769902\n",
      "       NaCl(aq) = 0.0835310163262151\n",
      "    NaHSiO3(aq) = 4.518719689137618e-07\n",
      "       NaOH(aq) = 6.024825737880916e-09\n",
      "         O2(aq) = 9.085084265276687e-16\n",
      "            OH- = 2.309423644836485e-08\n",
      "       SiO2(aq) = 0.00044660006620979244\n",
      "         H2O(g) = 0.011249168626368572\n",
      "         CO2(g) = 1.2526504208280178\n",
      "         Halite = 2.0835723383554204e-21\n",
      "        Calcite = 0.005352224696156552\n",
      "      Magnesite = 3.1155304546211613e-21\n",
      "       Dolomite = 0.057780084919817364\n",
      "         Quartz = 0.9995528961254583\n"
     ]
    }
   ],
   "source": [
    "# Print the name and the amount (in mol) of each species\n",
    "for species in system.species():\n",
    "    print(f'{species.name():>15} = {state.speciesAmount(species.name())}')"
   ]
  },
  {
   "cell_type": "code",
   "execution_count": 143,
   "metadata": {},
   "outputs": [],
   "source": [
    "# You can also output the chemical state to a file (check the results folder on the left pane of jupyter lab!)\n",
    "state.output('results/equilibrium-basics-state.txt')"
   ]
  },
  {
   "cell_type": "code",
   "execution_count": 144,
   "metadata": {},
   "outputs": [],
   "source": [
    "properties = ChemicalProperties(system)  # Use ChemicalProperties to obtain all chemical and thermodynamic properties of a chemical system at some state"
   ]
  },
  {
   "cell_type": "code",
   "execution_count": 145,
   "metadata": {},
   "outputs": [],
   "source": [
    "properties.update(state.temperature(), state.pressure(), state.speciesAmounts())  # Compute the chemical properties of the system at given state"
   ]
  },
  {
   "cell_type": "code",
   "execution_count": 146,
   "metadata": {},
   "outputs": [],
   "source": [
    "properties = state.properties()  # You can also use this shorter notation, at the expense of creating a new ChemicalProperties object at each call, instead of updating an existing one"
   ]
  },
  {
   "cell_type": "code",
   "execution_count": 147,
   "metadata": {},
   "outputs": [
    {
     "name": "stdout",
     "output_type": "stream",
     "text": [
      "         CO(aq) = 3.4743439853737896e-22\n",
      "        CO2(aq) = 0.875504228976846\n",
      "          CO3-- = 3.874244203328968e-07\n",
      "      Ca(HCO3)+ = 0.0028560960548854996\n",
      "     Ca(HSiO3)+ = 1.8088736460931053e-09\n",
      "           Ca++ = 0.003847759712161054\n",
      "      CaCO3(aq) = 8.761077561362328e-06\n",
      "          CaCl+ = 0.0021298904896724312\n",
      "      CaCl2(aq) = 0.0003290269441400857\n",
      "          CaOH+ = 2.9888951033381423e-09\n",
      "            Cl- = 0.5922592416279279\n",
      "           ClO- = 3.285833083669397e-21\n",
      "          ClO2- = 1.9949607056141808e-22\n",
      "          ClO3- = 1.708655389755737e-22\n",
      "          ClO4- = 1.2275291557377207e-22\n",
      "             H+ = 1.0401639866084542e-05\n",
      "         H2(aq) = 4.020952678882997e-22\n",
      "         H2O(l) = 0.9676752428985484\n",
      "       H2O2(aq) = 3.089173827801402e-21\n",
      "          HCO3- = 0.046133412634721226\n",
      "        HCl(aq) = 1.0459061308029913e-06\n",
      "       HClO(aq) = 9.789991340249271e-20\n",
      "      HClO2(aq) = 2.578543804448736e-22\n",
      "           HO2- = 4.283211673321789e-22\n",
      "         HSiO3- = 3.1754481524348856e-08\n",
      "      Mg(HCO3)+ = 0.000121451529126052\n",
      "     Mg(HSiO3)+ = 1.0790960758431822e-10\n",
      "           Mg++ = 0.0001618981165152653\n",
      "      MgCO3(aq) = 1.1372669241778417e-07\n",
      "          MgCl+ = 9.558044888225742e-05\n",
      "          MgOH+ = 9.229054353036567e-10\n",
      "            Na+ = 0.5870035467660746\n",
      "       NaCl(aq) = 0.08360571514587975\n",
      "    NaHSiO3(aq) = 4.522760619585008e-07\n",
      "       NaOH(aq) = 6.030213525448922e-09\n",
      "         O2(aq) = 9.093208733300868e-16\n",
      "            OH- = 1.557339945709286e-08\n",
      "       SiO2(aq) = 0.0004469994447792779\n",
      "         H2O(g) = 0.2637904246055469\n",
      "         CO2(g) = 68.4902561847841\n",
      "         Halite = 1.0\n",
      "        Calcite = 1.0\n",
      "      Magnesite = 1.0\n",
      "       Dolomite = 1.0\n",
      "         Quartz = 1.0\n"
     ]
    }
   ],
   "source": [
    "# Let's print the activities of each species\n",
    "lna = properties.lnActivities().val  # Get the values of ln activities of the species (if you use .ddT, .ddP, or .ddn instead of .val, you'll get, respectively, the T, P, n derivatives)\n",
    "a = numpy.exp(lna)  # Compute the actual activities, not the natural log\n",
    "for i, species in enumerate(system.species()):\n",
    "    print(f'{species.name():>15} = {a[i]}')"
   ]
  },
  {
   "cell_type": "code",
   "execution_count": 148,
   "metadata": {},
   "outputs": [
    {
     "name": "stdout",
     "output_type": "stream",
     "text": [
      "The pH of the aqueous phase is 4.982898186792658.\n",
      "Its sensitivity with respect to speciation, ∂(pH)/∂n, is:\n",
      "         CO(aq) = 0.007463272238343973\n",
      "        CO2(aq) = 0.007463272238343973\n",
      "          CO3-- = 0.01764093171816751\n",
      "      Ca(HCO3)+ = 0.010007687108299856\n",
      "     Ca(HSiO3)+ = 0.010007687108299856\n",
      "           Ca++ = 0.01764093171816751\n",
      "      CaCO3(aq) = 0.007463272238343973\n",
      "          CaCl+ = 0.010007687108299856\n",
      "      CaCl2(aq) = 0.007463272238343973\n",
      "          CaOH+ = 0.010007687108299856\n",
      "            Cl- = 0.010007687108299856\n",
      "           ClO- = 0.010007687108299856\n",
      "          ClO2- = 0.010007687108299856\n",
      "          ClO3- = 0.010007687108299856\n",
      "          ClO4- = 0.010007687108299856\n",
      "             H+ = -26542.249160597315\n",
      "         H2(aq) = 0.007463272238343973\n",
      "         H2O(l) = 0.007370231336413049\n",
      "       H2O2(aq) = 0.007463272238343973\n",
      "          HCO3- = 0.010007687108299856\n",
      "        HCl(aq) = 0.007463272238343973\n",
      "       HClO(aq) = 0.007463272238343973\n",
      "      HClO2(aq) = 0.007463272238343973\n",
      "           HO2- = 0.010007687108299856\n",
      "         HSiO3- = 0.010007687108299856\n",
      "      Mg(HCO3)+ = 0.010007687108299856\n",
      "     Mg(HSiO3)+ = 0.010007687108299856\n",
      "           Mg++ = 0.01764093171816751\n",
      "      MgCO3(aq) = 0.007463272238343973\n",
      "          MgCl+ = 0.010007687108299856\n",
      "          MgOH+ = 0.010007687108299856\n",
      "            Na+ = 0.010007687108299856\n",
      "       NaCl(aq) = 0.007463272238343973\n",
      "    NaHSiO3(aq) = 0.007463272238343973\n",
      "       NaOH(aq) = 0.007463272238343973\n",
      "         O2(aq) = 0.007463272238343973\n",
      "            OH- = 0.010007687108299856\n",
      "       SiO2(aq) = 0.007463272238343973\n",
      "         H2O(g) = -0.0\n",
      "         CO2(g) = -0.0\n",
      "         Halite = -0.0\n",
      "        Calcite = -0.0\n",
      "      Magnesite = -0.0\n",
      "       Dolomite = -0.0\n",
      "         Quartz = -0.0\n"
     ]
    }
   ],
   "source": [
    "# Let's create a pH function that determines the pH of the aqueous solution given the chemical properties of the system (this will be soon simplified!)\n",
    "evaluate_pH = ChemicalProperty.pH(system)\n",
    "pH = evaluate_pH(properties)\n",
    "print(f'The pH of the aqueous phase is {pH.val}.')\n",
    "print(f'Its sensitivity with respect to speciation, ∂(pH)/∂n, is:')\n",
    "for i, species in enumerate(system.species()):\n",
    "    print(f'{species.name():>15} = {pH.ddn[i]}')"
   ]
  }
 ],
 "metadata": {
  "kernelspec": {
   "display_name": "Python 3",
   "language": "python",
   "name": "python3"
  },
  "language_info": {
   "codemirror_mode": {
    "name": "ipython",
    "version": 3
   },
   "file_extension": ".py",
   "mimetype": "text/x-python",
   "name": "python",
   "nbconvert_exporter": "python",
   "pygments_lexer": "ipython3",
   "version": "3.8.0"
  }
 },
 "nbformat": 4,
 "nbformat_minor": 4
}
