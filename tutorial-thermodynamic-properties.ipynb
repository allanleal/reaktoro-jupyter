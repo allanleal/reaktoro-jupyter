{
 "cells": [
  {
   "cell_type": "markdown",
   "metadata": {},
   "source": [
    "# Evaluating standard thermodynamic properties of substances and reactions\n",
    "\n",
    "This tutorial demonstrates how to use Reaktoro to evaluate standard thermodynamic properties of substances and reactions.\n",
    "\n",
    "> *If your main instest is on computing thermodynamic properties, rather than chemical equilibrium and kinetics modeling, \n",
    "> you may want to check [ThermoFun](https://thermohub.org/thermofun/thermofun/), which is an excellent project dedicated for this task.*"
   ]
  },
  {
   "cell_type": "code",
   "execution_count": 2,
   "metadata": {},
   "outputs": [],
   "source": [
    "from reaktoro import *  # import everything from the reaktoro package"
   ]
  },
  {
   "cell_type": "code",
   "execution_count": 3,
   "metadata": {},
   "outputs": [],
   "source": [
    "db = Database('supcrt98.xml')  # We need a thermodynamic database that enable us to compute thermodynamic properties of species and reactions."
   ]
  },
  {
   "cell_type": "code",
   "execution_count": 4,
   "metadata": {},
   "outputs": [
    {
     "name": "stdout",
     "output_type": "stream",
     "text": [
      "G0(Na+) = -261989.99788831297 J/mol\n",
      "logK(H2O(l) = H+ + OH-) = -13.931442834240187\n"
     ]
    }
   ],
   "source": [
    "thermo = Thermo(db)  # create a Thermo object to perform the thermodynamic property evaluations \n",
    "\n",
    "T = 300.0  # temperature in K\n",
    "P = 10.0e5  # pressure in Pa (equivalent to 10 bar)\n",
    "\n",
    "G0 = thermo.standardPartialMolarGibbsEnergy(T, P, 'Na+')  # compute the standard Gibbs energy of Na+ at given (T, P)\n",
    "\n",
    "logK = thermo.logEquilibriumConstant(T, P, 'H2O(l) = H+ + OH-')  # compute the log(K) of the reaction at given (T, P)\n",
    "\n",
    "print(f'G0(Na+) = {G0.val} J/mol')  # use G0.ddT or G0.ddP to get temperature and pressure derivatives\n",
    "print(f'logK(H2O(l) = H+ + OH-) = {logK.val}')  # use logK.ddT or logK.ddP to get temperature and pressure derivatives"
   ]
  },
  {
   "cell_type": "code",
   "execution_count": null,
   "metadata": {},
   "outputs": [],
   "source": []
  }
 ],
 "metadata": {
  "kernelspec": {
   "display_name": "Python 3",
   "language": "python",
   "name": "python3"
  },
  "language_info": {
   "codemirror_mode": {
    "name": "ipython",
    "version": 3
   },
   "file_extension": ".py",
   "mimetype": "text/x-python",
   "name": "python",
   "nbconvert_exporter": "python",
   "pygments_lexer": "ipython3",
   "version": "3.8.0"
  }
 },
 "nbformat": 4,
 "nbformat_minor": 4
}
